{
 "cells": [
  {
   "cell_type": "markdown",
   "metadata": {},
   "source": [
    "# Bingo\n",
    "\n",
    "### How to execute the code?\n",
    "- There are helper functions defined in a seperate python file _**bingo.py**_ and we will be using it as a **module** here by simply importing it for the purpose of executing the code. \n",
    "- The **bingo** module is implemented with keeping all the constraints in mind as defined in the problem statement. It has a total of **9 methods** with are used internally to play the game. I highly encourage you to look at the source code of the module.\n",
    "- The entire program is trigger once you call the **simulate_game** method of the bingo module.\n",
    "- The **simulate_game** method takes 3 arguments as explained below:\n",
    "        \n",
    "    `players_dic ===> This is the dictonary of players playing`  **Bingo**\n",
    "                       \n",
    "                    Please pass in this argument with your desired choice of numbers and name as shown:\n",
    "                       \n",
    "                    {\"Ajay\" : np.array([[1,1,1],[2,2,2],[3,3,3]]),\n",
    "                     \"Test\" : np.array([[7,7,7],[7,7,7],[7,7,7]])}\n",
    "                        \n",
    "                    Here the name \"Ajay\", \"Test\" are the keys of the dictionary and \n",
    "                        \n",
    "                    np.array([[1,1,1],[2,2,2],[3,3,3]]),\n",
    "                    np.array([[1,1,1],[2,2,2],[3,3,3]]) are the values corresponding to those keys.\n",
    "                    \n",
    "                                        \n",
    "    random_player_size ===> This is the number of random players you want to include in the game.\n",
    "    \n",
    "    game_size ===> Number of bingo games to be played.\n",
    "    \n",
    "- The **simulate_game** method returns the entire players dictionary to test the scores of the desired player along with the dictionary of the winning player.\n",
    "                                \n",
    "### Ajay's Bingo Matrix\n",
    "#### Matrix\n",
    "- The that matrix I came up with and beleive will outperform most of the times is as shown below:\n",
    "\n",
    "                                      --------------------------\n",
    "                                      |   7   |   18   |   8   |   \n",
    "                                      |-------------------------\n",
    "                                      |  20   |   12   |   20  |\n",
    "                                      |-------------------------\n",
    "                                      |  11   |   18   |   7   |\n",
    "                                      --------------------------\n",
    "      \n",
    "- When two unbiased and fair dices are rolled the possible outcomes are **2,3,4,5,6,7,8,9,10,11 and 12**.\n",
    "- If we plot the **probabilty distribution** of sum of the dices it is seen that it is **gaussian distribution**.\n",
    "![image](../Images/dice_probs.jpg)\n",
    "- From the plot it is evident that the **maximum probability mass function (PMF)** lies in between.\n",
    "- To account for the maximum probability and variance we need to find numbers which are multiples of maximum numbers in the range of 2 to 20. It can be shown that 12 and 18 are the numbers which account for the most probabilty mass function (PMF) of the entire distribution. However both the numbers have some multiples in common and we need to take union of the two while calculating probablities.\n",
    "- Both 12 nd 18 have probabilites of 12/36 = 33.33% however we will choose 18 over 12 because 12 accounts for less PMF as compared to 20 when taken considered together and our aim is to maximum the PMF.\n",
    "- With similar logic if you calculate the probabilites of individual numbers you will notice that the numbers 18, 20, 7, 8, 12 and 11 represent the entire PMF with the highest probabilites.\n",
    "\n",
    "#### Arrangement of numbers\n",
    "- If you calculate the probabilities and evenly distribute for numbers which are multiples of many other numbers since they have equal chance of being selected by the algorithm you will come up with the following values:\n",
    "            \n",
    "                           -------------------------------------------------\n",
    "            Numbers ===>   |   8   |  12   |  20   |   7   |  11   |  18   |\n",
    "                           -------------------------------------------------\n",
    "       Probabilties ===>   |  17%  |  13%  |  23%  |  17%  |  6%   |  21%  |\n",
    "                           -------------------------------------------------\n",
    "                    \n",
    "- The probabilties clearly show that 20, 18 and 7 should be more as comapred to other numbers and roughly ~ 2 of each box in the bingo box followed by single box of each 12, 8 and 7.\n",
    "- The reason why 12 takes the middle place is beacuse it has the middle box has the highest probability of getting selected as comapred to toother boxes when thought of PMF and in many trials of the game.\n",
    "- That being said if you look closely now other numbers are also arranged with a similar logic."
   ]
  },
  {
   "cell_type": "markdown",
   "metadata": {},
   "source": [
    "# Simulating the game"
   ]
  },
  {
   "cell_type": "code",
   "execution_count": 4,
   "metadata": {
    "collapsed": false
   },
   "outputs": [],
   "source": [
    "# importing required libraries\n",
    "import bingo\n",
    "import numpy as np"
   ]
  },
  {
   "cell_type": "code",
   "execution_count": 5,
   "metadata": {
    "collapsed": false
   },
   "outputs": [],
   "source": [
    "# preparing the input\n",
    "players = {\"Ajay\" : np.array([[7,18,8],[20,12,20],[11,18,7]]), # dictionary with key as player name and \n",
    "                                                               # value as the bingo box\n",
    "           \"Test\" : np.array([[7,7,7],[7,7,7],[7,7,7]])}       # dictionary with key as player name and \n",
    "                                                               # value as the bingo box"
   ]
  },
  {
   "cell_type": "code",
   "execution_count": 6,
   "metadata": {
    "collapsed": false
   },
   "outputs": [],
   "source": [
    "# calling the simulate_game() function to execute the code\n",
    "output_dic, winner = bingo.simulate_game(players_dic=players,random_player_size=10,game_size=10000)"
   ]
  },
  {
   "cell_type": "code",
   "execution_count": 7,
   "metadata": {
    "collapsed": false
   },
   "outputs": [
    {
     "data": {
      "text/plain": [
       "{'Ajay': {'Bingo Value': array([ 0. ,  0. ,  1. , ...,  0.5,  0. ,  0. ]),\n",
       "  'Box': array([[ 7, 18,  8],\n",
       "         [20, 12, 20],\n",
       "         [11, 18,  7]])},\n",
       " 'Player 0': {'Bingo Value': array([ 0. ,  0. ,  0. , ...,  0.5,  1. ,  0. ]),\n",
       "  'Box': array([[12, 10,  2],\n",
       "         [ 7, 14,  3],\n",
       "         [11, 12,  4]])},\n",
       " 'Player 1': {'Bingo Value': array([ 0.,  0.,  0., ...,  0.,  0.,  0.]),\n",
       "  'Box': array([[ 4,  4,  6],\n",
       "         [18, 13, 11],\n",
       "         [17,  8, 20]])},\n",
       " 'Player 2': {'Bingo Value': array([ 0.,  0.,  0., ...,  0.,  0.,  0.]),\n",
       "  'Box': array([[ 2, 19, 13],\n",
       "         [ 9, 17,  7],\n",
       "         [10, 19,  6]])},\n",
       " 'Player 3': {'Bingo Value': array([ 0. ,  0. ,  0. , ...,  0. ,  0. ,  0.5]),\n",
       "  'Box': array([[12, 13, 16],\n",
       "         [ 6,  6,  7],\n",
       "         [12, 20, 18]])},\n",
       " 'Player 4': {'Bingo Value': array([ 0.,  0.,  0., ...,  0.,  0.,  0.]),\n",
       "  'Box': array([[ 9,  4,  7],\n",
       "         [ 4, 16, 13],\n",
       "         [ 4, 15, 15]])},\n",
       " 'Player 5': {'Bingo Value': array([ 0.,  0.,  0., ...,  0.,  0.,  0.]),\n",
       "  'Box': array([[10, 11, 18],\n",
       "         [10,  5,  6],\n",
       "         [ 5, 13,  2]])},\n",
       " 'Player 6': {'Bingo Value': array([ 0.,  0.,  0., ...,  0.,  0.,  0.]),\n",
       "  'Box': array([[ 2, 14,  8],\n",
       "         [ 6, 10, 11],\n",
       "         [ 5, 20,  8]])},\n",
       " 'Player 7': {'Bingo Value': array([ 0.,  0.,  0., ...,  0.,  0.,  0.]),\n",
       "  'Box': array([[19,  2,  2],\n",
       "         [20, 17, 14],\n",
       "         [12,  3, 15]])},\n",
       " 'Player 8': {'Bingo Value': array([ 0. ,  0.5,  0. , ...,  0. ,  0. ,  0.5]),\n",
       "  'Box': array([[13,  7,  3],\n",
       "         [ 7, 20, 20],\n",
       "         [ 7, 18, 16]])},\n",
       " 'Player 9': {'Bingo Value': array([ 1. ,  0.5,  0. , ...,  0. ,  0. ,  0. ]),\n",
       "  'Box': array([[ 5,  8,  8],\n",
       "         [13,  8,  4],\n",
       "         [20,  7, 15]])},\n",
       " 'Test': {'Bingo Value': array([ 0.,  0.,  0., ...,  0.,  0.,  0.]),\n",
       "  'Box': array([[7, 7, 7],\n",
       "         [7, 7, 7],\n",
       "         [7, 7, 7]])}}"
      ]
     },
     "execution_count": 7,
     "metadata": {},
     "output_type": "execute_result"
    }
   ],
   "source": [
    "# the entire output dictionary to test scores of players interested\n",
    "output_dic"
   ]
  },
  {
   "cell_type": "code",
   "execution_count": 8,
   "metadata": {
    "collapsed": false
   },
   "outputs": [
    {
     "data": {
      "text/plain": [
       "{'Winner': {'Ajay': {'Bingo Value': array([ 0. ,  0. ,  1. , ...,  0.5,  0. ,  0. ]),\n",
       "   'Box': array([[ 7, 18,  8],\n",
       "          [20, 12, 20],\n",
       "          [11, 18,  7]])}},\n",
       " 'max_wins': 3209.4666666666667}"
      ]
     },
     "execution_count": 8,
     "metadata": {},
     "output_type": "execute_result"
    }
   ],
   "source": [
    "# the winner with the total wins\n",
    "winner"
   ]
  },
  {
   "cell_type": "code",
   "execution_count": null,
   "metadata": {
    "collapsed": true
   },
   "outputs": [],
   "source": []
  }
 ],
 "metadata": {
  "anaconda-cloud": {},
  "kernelspec": {
   "display_name": "Python [conda root]",
   "language": "python",
   "name": "conda-root-py"
  },
  "language_info": {
   "codemirror_mode": {
    "name": "ipython",
    "version": 3
   },
   "file_extension": ".py",
   "mimetype": "text/x-python",
   "name": "python",
   "nbconvert_exporter": "python",
   "pygments_lexer": "ipython3",
   "version": "3.5.2"
  }
 },
 "nbformat": 4,
 "nbformat_minor": 2
}
