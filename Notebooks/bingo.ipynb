{
 "cells": [
  {
   "cell_type": "code",
   "execution_count": 76,
   "metadata": {
    "collapsed": true
   },
   "outputs": [],
   "source": [
    "# importing the required libraries\n",
    "import numpy as np\n",
    "import random"
   ]
  },
  {
   "cell_type": "code",
   "execution_count": 84,
   "metadata": {
    "collapsed": true
   },
   "outputs": [],
   "source": [
    "# function to get the sum of the dices assuming the dices are fair and unbaised\n",
    "def roll_dices():\n",
    "    '''\n",
    "     returns : sum of the two dices which are rolled.\n",
    "    '''\n",
    "    dice1 = np.random.randint(1,7)\n",
    "    dice2 = np.random.randint(1,7)\n",
    "    return dice1 + dice2"
   ]
  },
  {
   "cell_type": "code",
   "execution_count": 83,
   "metadata": {
    "collapsed": false
   },
   "outputs": [],
   "source": [
    "# function to initialize the players with their choice of bingo boxes also facilitating \n",
    "# to add random number of players and number of games to be played.\n",
    "\n",
    "def initialize_array(players_dic,random_player_size=3,game_size=1):\n",
    "    \n",
    "    '''\n",
    "        arguments : players_dic         ===> dictionary of players of choice with key and value pairs\n",
    "                \n",
    "                    random_player_size  ===> number of random players to be added\n",
    "                \n",
    "                    game_size           ===> number of games to be played\n",
    "                \n",
    "          returns : dic                 ===> python dictionary containing all the players in the game \n",
    "    '''\n",
    "    \n",
    "    random_players = np.random.randint(2,21,(random_player_size,3,3))\n",
    "    dic = {}\n",
    "    for num in range(random_player_size):\n",
    "        dic['Player '+ str(num)] = {'Box' : random_players[num],  \n",
    "                                    'Bingo Value' : np.zeros(game_size)}\n",
    "        \n",
    "    for player in players_dic:\n",
    "        dic[player] = {'Box' : players_dic[player], \n",
    "                       'Bingo Value' : np.zeros(game_size)}\n",
    "    \n",
    "    return dic"
   ]
  },
  {
   "cell_type": "code",
   "execution_count": 85,
   "metadata": {
    "collapsed": true
   },
   "outputs": [],
   "source": [
    "# function to obtain which box should be marked in the case there are multiples\n",
    "\n",
    "def get_box_to_be_marked(sum_of_dices,my_array):\n",
    "    \n",
    "    '''\n",
    "        arguments : sum_of_dices       ===> sum of dices returned from the roll_dices() function\n",
    "    \n",
    "                    my_array           ===> bingo box which is being currently marked\n",
    "                 \n",
    "          returns : index_to_be_marked ===> location of the index to be marked or -1\n",
    "       \n",
    "                    True, False        ===> status indicator if index to be marked exists\n",
    "    '''\n",
    "    \n",
    "    array_of_multiples = np.asarray(np.where(my_array%sum_of_dices == 0)).T\n",
    "    if len(array_of_multiples) > 0:\n",
    "        index_to_be_marked = random.choice(array_of_multiples)\n",
    "        return index_to_be_marked,True\n",
    "    else:\n",
    "        return -1,False"
   ]
  },
  {
   "cell_type": "code",
   "execution_count": 86,
   "metadata": {
    "collapsed": true
   },
   "outputs": [],
   "source": [
    "# function to mark the box\n",
    "\n",
    "def mark_box(my_array,index_to_be_marked):\n",
    "    \n",
    "    '''\n",
    "        arguments : my_array           ===> bingo box to be marked\n",
    "        \n",
    "                    index_to_be_marked ===> location of the index to be marked\n",
    "                    \n",
    "          returns : my_array           ===> bingo box after being marked\n",
    "    '''\n",
    "    \n",
    "    my_array[index_to_be_marked[0],index_to_be_marked[1]] = -1\n",
    "    return my_array"
   ]
  },
  {
   "cell_type": "code",
   "execution_count": 87,
   "metadata": {
    "collapsed": true
   },
   "outputs": [],
   "source": [
    "# function that simulates a single game\n",
    "\n",
    "def start_game(players_dic,game_no):\n",
    "    \n",
    "    '''\n",
    "        arguments : players_dic ===> dictionary containing all the players in the game\n",
    "        \n",
    "                    game_no     ===> number of game being played\n",
    "                    \n",
    "          returns : players_dic ===> dictionary containing all the players in the game with modified variables\n",
    "          \n",
    "    '''\n",
    "    \n",
    "    temp_player_box = {player : players_dic[player]['Box'].copy() for player in players_dic}\n",
    "    flag = True\n",
    "    count = 0\n",
    "    no_of_winners = 0\n",
    "    while flag:\n",
    "        count+=1\n",
    "        sum_of_dices = roll_dices()\n",
    "        for player in temp_player_box:\n",
    "            index_to_be_marked, boolean = get_box_to_be_marked(sum_of_dices,temp_player_box[player])\n",
    "            if boolean:\n",
    "                box = mark_box(temp_player_box[player],index_to_be_marked)\n",
    "                if count > 2:\n",
    "                    if bingo(box):\n",
    "                        no_of_winners+=1\n",
    "                        players_dic[player]['Bingo Value'][game_no] = 1\n",
    "                        flag = False\n",
    "                        \n",
    "    distribute_wins(players_dic,game_no,no_of_winners)\n",
    "    return players_dic"
   ]
  },
  {
   "cell_type": "code",
   "execution_count": 89,
   "metadata": {
    "collapsed": true
   },
   "outputs": [],
   "source": [
    "# function to normalize wins among all the winners in a single bingo game\n",
    "\n",
    "def distribute_wins(players_dic,game_no,no_of_winners):\n",
    "    \n",
    "    '''\n",
    "        arguments : players_dic   ===> dictionary containing all the players in the game\n",
    "        \n",
    "                    game_no       ===> number of game being played\n",
    "                    \n",
    "                    no_of_winners ===> number of winners in the game being played\n",
    "    '''\n",
    "    \n",
    "    for player in players_dic:\n",
    "        players_dic[player][\"Bingo Value\"][game_no] = players_dic[player][\"Bingo Value\"][game_no]/no_of_winners"
   ]
  },
  {
   "cell_type": "code",
   "execution_count": 90,
   "metadata": {
    "collapsed": true
   },
   "outputs": [],
   "source": [
    "# function to determine the winner\n",
    "\n",
    "def winner(players_dic):\n",
    "    \n",
    "    '''\n",
    "        arguments : players_dic   ===> dictionary containing all the players in the game\n",
    "        \n",
    "          returns : winner_dic    ===> dictionary of the winner with the number of wins\n",
    "    '''\n",
    "    \n",
    "    max_wins = 0\n",
    "    winner_dic = {}\n",
    "    for player in players_dic:\n",
    "        bingo_value = players_dic[player][\"Bingo Value\"].sum()\n",
    "        if max_wins < bingo_value:\n",
    "            max_wins = bingo_value\n",
    "            winner_dic[\"max_wins\"] = max_wins\n",
    "            winner_dic[\"Winner\"]   = {player : players_dic[player]}\n",
    "            \n",
    "    return winner_dic"
   ]
  },
  {
   "cell_type": "code",
   "execution_count": 92,
   "metadata": {
    "collapsed": true
   },
   "outputs": [],
   "source": [
    "# function to determine if its a bingo\n",
    "\n",
    "def bingo(my_array):\n",
    "    \n",
    "    '''\n",
    "        arguments : my_array    ===> bingo box to be determine if its a bingo\n",
    "        \n",
    "          returns : True, False ===> boolean stating if its a bingo\n",
    "    '''\n",
    "    \n",
    "    secondary_diagonal = my_array[[2,1,0],[0,1,2]].sum()\n",
    "    if secondary_diagonal == -3:\n",
    "        return True\n",
    "    elif my_array.diagonal().sum() == -3:\n",
    "        return True\n",
    "    else:\n",
    "        for i in range(3):\n",
    "            if my_array[i,:].sum() == -3:\n",
    "                return True\n",
    "            elif my_array[:,i].sum() == -3:\n",
    "                return True\n",
    "    return False"
   ]
  },
  {
   "cell_type": "code",
   "execution_count": 93,
   "metadata": {
    "collapsed": false
   },
   "outputs": [],
   "source": [
    "# function to simulate game with the given number of times with custom players\n",
    "\n",
    "def simulate_game(players_dic,random_player_size=3,game_size=1):\n",
    "    \n",
    "    '''\n",
    "        arguments : players_dic         ===> dictionary of players of choice with key and value pairs\n",
    "                \n",
    "                    random_player_size  ===> number of random players to be added, by default players = 3\n",
    "                \n",
    "                    game_size           ===> number of games to be played, by default size = 1\n",
    "                    \n",
    "          returns : players_dic         ===> dictionary of all players in the game with their scores\n",
    "          \n",
    "                    winner              ===> dictionary of the winner with total wins\n",
    "    '''\n",
    "    \n",
    "    players_dic = initialize_array(players_dic,random_player_size,game_size)\n",
    "    for i in range(game_size):\n",
    "        players_dic = start_game(players_dic,i)\n",
    "    \n",
    "    return players_dic, winner(players_dic)"
   ]
  },
  {
   "cell_type": "code",
   "execution_count": null,
   "metadata": {
    "collapsed": false
   },
   "outputs": [],
   "source": []
  },
  {
   "cell_type": "code",
   "execution_count": null,
   "metadata": {
    "collapsed": false
   },
   "outputs": [],
   "source": []
  },
  {
   "cell_type": "code",
   "execution_count": null,
   "metadata": {
    "collapsed": false
   },
   "outputs": [],
   "source": []
  },
  {
   "cell_type": "code",
   "execution_count": null,
   "metadata": {
    "collapsed": false
   },
   "outputs": [],
   "source": []
  },
  {
   "cell_type": "code",
   "execution_count": null,
   "metadata": {
    "collapsed": true
   },
   "outputs": [],
   "source": []
  }
 ],
 "metadata": {
  "kernelspec": {
   "display_name": "Python [conda root]",
   "language": "python",
   "name": "conda-root-py"
  },
  "language_info": {
   "codemirror_mode": {
    "name": "ipython",
    "version": 3
   },
   "file_extension": ".py",
   "mimetype": "text/x-python",
   "name": "python",
   "nbconvert_exporter": "python",
   "pygments_lexer": "ipython3",
   "version": "3.5.2"
  }
 },
 "nbformat": 4,
 "nbformat_minor": 2
}
